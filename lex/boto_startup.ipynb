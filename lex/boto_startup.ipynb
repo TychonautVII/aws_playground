{
 "cells": [
  {
   "cell_type": "code",
   "execution_count": 10,
   "metadata": {
    "collapsed": true
   },
   "outputs": [],
   "source": [
    "import boto3\n",
    "import pandas as pd\n",
    "import numpy as np\n",
    "from copy import deepcopy as cp\n",
    "import json\n",
    "from pprint import pprint\n",
    "import time"
   ]
  },
  {
   "cell_type": "code",
   "execution_count": 11,
   "metadata": {
    "collapsed": true
   },
   "outputs": [],
   "source": [
    "aws_profile = 'peter-personal'\n",
    "session = boto3.Session(profile_name='peter-personal')"
   ]
  },
  {
   "cell_type": "code",
   "execution_count": 12,
   "metadata": {
    "collapsed": true
   },
   "outputs": [],
   "source": [
    "# Read in the configuration Files\n",
    "with open('FlowerTypes.json') as json_data:\n",
    "    flower_types_dict = json.load(json_data)\n",
    "\n",
    "with open('OrderFlowers.json') as json_data:\n",
    "    order_flowers_dict = json.load(json_data)\n",
    "    \n",
    "with open('OrderFlowersBot.json') as json_data:\n",
    "    order_flowers_bot_dict = json.load(json_data)"
   ]
  },
  {
   "cell_type": "code",
   "execution_count": 44,
   "metadata": {},
   "outputs": [
    {
     "data": {
      "text/plain": [
       "'OrderFlowersBot'"
      ]
     },
     "execution_count": 44,
     "metadata": {},
     "output_type": "execute_result"
    }
   ],
   "source": [
    "order_flowers_bot_dict['name']"
   ]
  },
  {
   "cell_type": "code",
   "execution_count": 45,
   "metadata": {},
   "outputs": [],
   "source": [
    "# Make Bot\n",
    "model_builder = session.client('lex-models')\n",
    "put_slot_out = model_builder.put_slot_type(**flower_types_dict)\n",
    "put_intent_out = model_builder.put_intent(**order_flowers_dict)\n",
    "put_bot_out = model_builder.put_bot(**order_flowers_bot_dict)"
   ]
  },
  {
   "cell_type": "code",
   "execution_count": 46,
   "metadata": {},
   "outputs": [
    {
     "name": "stdout",
     "output_type": "stream",
     "text": [
      "Bot status BUILDING\n",
      "Bot status BUILDING\n",
      "Bot status BUILDING\n",
      "Bot status BUILDING\n",
      "Bot status BUILDING\n",
      "Bot status BUILDING\n",
      "Bot status READY\n"
     ]
    }
   ],
   "source": [
    "# Wait Untill Bot is Built\n",
    "def check_bot_status(model_builder):\n",
    "    response_dict = model_builder.get_bot(name='OrderFlowersBot',\n",
    "                                          versionOrAlias='$LATEST')\n",
    "    status = response_dict['status']\n",
    "    print(\"Bot status {}\".format(status))\n",
    "    return status\n",
    "    \n",
    "status = check_bot_status(model_builder)\n",
    "\n",
    "while(status!='READY'):\n",
    "    time.sleep(5)\n",
    "    status = check_bot_status(model_builder)"
   ]
  },
  {
   "cell_type": "code",
   "execution_count": null,
   "metadata": {
    "collapsed": true
   },
   "outputs": [],
   "source": [
    "# I've manually added the dev alias for now\n",
    "# I'd have to delete the channel, then delete the alias, then delete the bot"
   ]
  },
  {
   "cell_type": "code",
   "execution_count": 42,
   "metadata": {
    "collapsed": true
   },
   "outputs": [],
   "source": [
    "model_builder.create_bot_version?"
   ]
  },
  {
   "cell_type": "code",
   "execution_count": 57,
   "metadata": {},
   "outputs": [
    {
     "ename": "PreconditionFailedException",
     "evalue": "An error occurred (PreconditionFailedException) when calling the PutBotAlias operation: Alias 'dev' for Bot 'OrderFlowersBot' already exists. If you are trying to update 'dev' you must specify checksum",
     "output_type": "error",
     "traceback": [
      "\u001b[1;31m---------------------------------------------------------------------------\u001b[0m",
      "\u001b[1;31mPreconditionFailedException\u001b[0m               Traceback (most recent call last)",
      "\u001b[1;32m<ipython-input-57-8f403a0ea6e9>\u001b[0m in \u001b[0;36m<module>\u001b[1;34m()\u001b[0m\n\u001b[0;32m      1\u001b[0m put_bot_alias_out = model_builder.put_bot_alias(botName=order_flowers_bot_dict['name'],\n\u001b[0;32m      2\u001b[0m                                                      \u001b[0mbotVersion\u001b[0m\u001b[1;33m=\u001b[0m\u001b[1;34m'$LATEST'\u001b[0m\u001b[1;33m,\u001b[0m\u001b[1;33m\u001b[0m\u001b[0m\n\u001b[1;32m----> 3\u001b[1;33m                                                      name='dev')\n\u001b[0m",
      "\u001b[1;32mC:\\Users\\PMariani\\AppData\\Local\\Continuum\\anaconda3\\lib\\site-packages\\botocore\\client.py\u001b[0m in \u001b[0;36m_api_call\u001b[1;34m(self, *args, **kwargs)\u001b[0m\n\u001b[0;32m    322\u001b[0m                     \"%s() only accepts keyword arguments.\" % py_operation_name)\n\u001b[0;32m    323\u001b[0m             \u001b[1;31m# The \"self\" in this scope is referring to the BaseClient.\u001b[0m\u001b[1;33m\u001b[0m\u001b[1;33m\u001b[0m\u001b[0m\n\u001b[1;32m--> 324\u001b[1;33m             \u001b[1;32mreturn\u001b[0m \u001b[0mself\u001b[0m\u001b[1;33m.\u001b[0m\u001b[0m_make_api_call\u001b[0m\u001b[1;33m(\u001b[0m\u001b[0moperation_name\u001b[0m\u001b[1;33m,\u001b[0m \u001b[0mkwargs\u001b[0m\u001b[1;33m)\u001b[0m\u001b[1;33m\u001b[0m\u001b[0m\n\u001b[0m\u001b[0;32m    325\u001b[0m \u001b[1;33m\u001b[0m\u001b[0m\n\u001b[0;32m    326\u001b[0m         \u001b[0m_api_call\u001b[0m\u001b[1;33m.\u001b[0m\u001b[0m__name__\u001b[0m \u001b[1;33m=\u001b[0m \u001b[0mstr\u001b[0m\u001b[1;33m(\u001b[0m\u001b[0mpy_operation_name\u001b[0m\u001b[1;33m)\u001b[0m\u001b[1;33m\u001b[0m\u001b[0m\n",
      "\u001b[1;32mC:\\Users\\PMariani\\AppData\\Local\\Continuum\\anaconda3\\lib\\site-packages\\botocore\\client.py\u001b[0m in \u001b[0;36m_make_api_call\u001b[1;34m(self, operation_name, api_params)\u001b[0m\n\u001b[0;32m    620\u001b[0m             \u001b[0merror_code\u001b[0m \u001b[1;33m=\u001b[0m \u001b[0mparsed_response\u001b[0m\u001b[1;33m.\u001b[0m\u001b[0mget\u001b[0m\u001b[1;33m(\u001b[0m\u001b[1;34m\"Error\"\u001b[0m\u001b[1;33m,\u001b[0m \u001b[1;33m{\u001b[0m\u001b[1;33m}\u001b[0m\u001b[1;33m)\u001b[0m\u001b[1;33m.\u001b[0m\u001b[0mget\u001b[0m\u001b[1;33m(\u001b[0m\u001b[1;34m\"Code\"\u001b[0m\u001b[1;33m)\u001b[0m\u001b[1;33m\u001b[0m\u001b[0m\n\u001b[0;32m    621\u001b[0m             \u001b[0merror_class\u001b[0m \u001b[1;33m=\u001b[0m \u001b[0mself\u001b[0m\u001b[1;33m.\u001b[0m\u001b[0mexceptions\u001b[0m\u001b[1;33m.\u001b[0m\u001b[0mfrom_code\u001b[0m\u001b[1;33m(\u001b[0m\u001b[0merror_code\u001b[0m\u001b[1;33m)\u001b[0m\u001b[1;33m\u001b[0m\u001b[0m\n\u001b[1;32m--> 622\u001b[1;33m             \u001b[1;32mraise\u001b[0m \u001b[0merror_class\u001b[0m\u001b[1;33m(\u001b[0m\u001b[0mparsed_response\u001b[0m\u001b[1;33m,\u001b[0m \u001b[0moperation_name\u001b[0m\u001b[1;33m)\u001b[0m\u001b[1;33m\u001b[0m\u001b[0m\n\u001b[0m\u001b[0;32m    623\u001b[0m         \u001b[1;32melse\u001b[0m\u001b[1;33m:\u001b[0m\u001b[1;33m\u001b[0m\u001b[0m\n\u001b[0;32m    624\u001b[0m             \u001b[1;32mreturn\u001b[0m \u001b[0mparsed_response\u001b[0m\u001b[1;33m\u001b[0m\u001b[0m\n",
      "\u001b[1;31mPreconditionFailedException\u001b[0m: An error occurred (PreconditionFailedException) when calling the PutBotAlias operation: Alias 'dev' for Bot 'OrderFlowersBot' already exists. If you are trying to update 'dev' you must specify checksum"
     ]
    }
   ],
   "source": [
    "put_bot_alias_out = model_builder.put_bot_alias(botName=order_flowers_bot_dict['name'],\n",
    "                                                     botVersion='$LATEST',\n",
    "                                                     name='dev')"
   ]
  },
  {
   "cell_type": "code",
   "execution_count": 56,
   "metadata": {},
   "outputs": [
    {
     "data": {
      "text/plain": [
       "{'ResponseMetadata': {'HTTPHeaders': {'connection': 'keep-alive',\n",
       "   'content-length': '200',\n",
       "   'content-type': 'application/json',\n",
       "   'date': 'Wed, 21 Mar 2018 14:24:44 GMT',\n",
       "   'x-amzn-requestid': '9a269be4-2d13-11e8-8f29-9915df4142a2'},\n",
       "  'HTTPStatusCode': 200,\n",
       "  'RequestId': '9a269be4-2d13-11e8-8f29-9915df4142a2',\n",
       "  'RetryAttempts': 0},\n",
       " 'botName': 'OrderFlowersBot',\n",
       " 'botVersion': '$LATEST',\n",
       " 'checksum': 'a6a95322-4424-41ac-8833-e8c69932f1ff',\n",
       " 'createdDate': datetime.datetime(2018, 3, 21, 10, 24, 44, 871000, tzinfo=tzlocal()),\n",
       " 'lastUpdatedDate': datetime.datetime(2018, 3, 21, 10, 24, 44, 871000, tzinfo=tzlocal()),\n",
       " 'name': 'dev'}"
      ]
     },
     "execution_count": 56,
     "metadata": {},
     "output_type": "execute_result"
    }
   ],
   "source": [
    "create_bot_version_out"
   ]
  },
  {
   "cell_type": "code",
   "execution_count": 51,
   "metadata": {
    "collapsed": true
   },
   "outputs": [],
   "source": [
    "lex_runtime = session.client('lex-runtime')"
   ]
  },
  {
   "cell_type": "code",
   "execution_count": 6,
   "metadata": {},
   "outputs": [
    {
     "name": "stdout",
     "output_type": "stream",
     "text": [
      "{'ResponseMetadata': {'HTTPHeaders': {'connection': 'keep-alive',\n",
      "                                      'content-length': '279',\n",
      "                                      'content-type': 'application/json',\n",
      "                                      'date': 'Tue, 20 Mar 2018 19:03:23 GMT',\n",
      "                                      'x-amzn-requestid': '5d0d9de4-2c71-11e8-b202-c1f3d18f6e51'},\n",
      "                      'HTTPStatusCode': 200,\n",
      "                      'RequestId': '5d0d9de4-2c71-11e8-b202-c1f3d18f6e51',\n",
      "                      'RetryAttempts': 0},\n",
      " 'dialogState': 'ElicitSlot',\n",
      " 'intentName': 'OrderFlowers',\n",
      " 'message': 'What type of flowers would you like to order?',\n",
      " 'messageFormat': 'PlainText',\n",
      " 'slotToElicit': 'FlowerType',\n",
      " 'slots': {'FlowerType': None, 'PickupDate': None, 'PickupTime': None}}\n"
     ]
    }
   ],
   "source": [
    "# Interact with Bot\n",
    "lex_runtime = session.client('lex-runtime')\n",
    "out = lex_runtime.post_text(botName = 'OrderFlowersBot',\n",
    "                      botAlias = bot_alias,\n",
    "                      userId = \"UserOne\",\n",
    "                      inputText = \"i would like to order flowers\" )\n",
    "pprint(out)"
   ]
  },
  {
   "cell_type": "code",
   "execution_count": 22,
   "metadata": {},
   "outputs": [
    {
     "ename": "ConflictException",
     "evalue": "An error occurred (ConflictException) when calling the DeleteIntent operation: There is a conflicting operation in progress for the resource named 'OrderFlowers'.",
     "output_type": "error",
     "traceback": [
      "\u001b[1;31m---------------------------------------------------------------------------\u001b[0m",
      "\u001b[1;31mConflictException\u001b[0m                         Traceback (most recent call last)",
      "\u001b[1;32m<ipython-input-22-7315de871e9f>\u001b[0m in \u001b[0;36m<module>\u001b[1;34m()\u001b[0m\n\u001b[0;32m      3\u001b[0m \u001b[1;31m# TODO make this more robust to error handling\u001b[0m\u001b[1;33m\u001b[0m\u001b[1;33m\u001b[0m\u001b[0m\n\u001b[0;32m      4\u001b[0m \u001b[0mmodel_builder\u001b[0m\u001b[1;33m.\u001b[0m\u001b[0mdelete_bot\u001b[0m\u001b[1;33m(\u001b[0m\u001b[0mname\u001b[0m\u001b[1;33m=\u001b[0m\u001b[1;34m'OrderFlowersBot'\u001b[0m\u001b[1;33m)\u001b[0m\u001b[1;33m\u001b[0m\u001b[0m\n\u001b[1;32m----> 5\u001b[1;33m \u001b[0mmodel_builder\u001b[0m\u001b[1;33m.\u001b[0m\u001b[0mdelete_intent\u001b[0m\u001b[1;33m(\u001b[0m\u001b[0mname\u001b[0m\u001b[1;33m=\u001b[0m\u001b[1;34m'OrderFlowers'\u001b[0m\u001b[1;33m)\u001b[0m\u001b[1;33m\u001b[0m\u001b[0m\n\u001b[0m\u001b[0;32m      6\u001b[0m \u001b[0mmodel_builder\u001b[0m\u001b[1;33m.\u001b[0m\u001b[0mdelete_slot_type\u001b[0m\u001b[1;33m(\u001b[0m\u001b[0mname\u001b[0m\u001b[1;33m=\u001b[0m\u001b[1;34m'FlowerTypes'\u001b[0m\u001b[1;33m)\u001b[0m\u001b[1;33m\u001b[0m\u001b[0m\n",
      "\u001b[1;32mC:\\Users\\PMariani\\AppData\\Local\\Continuum\\anaconda3\\lib\\site-packages\\botocore\\client.py\u001b[0m in \u001b[0;36m_api_call\u001b[1;34m(self, *args, **kwargs)\u001b[0m\n\u001b[0;32m    322\u001b[0m                     \"%s() only accepts keyword arguments.\" % py_operation_name)\n\u001b[0;32m    323\u001b[0m             \u001b[1;31m# The \"self\" in this scope is referring to the BaseClient.\u001b[0m\u001b[1;33m\u001b[0m\u001b[1;33m\u001b[0m\u001b[0m\n\u001b[1;32m--> 324\u001b[1;33m             \u001b[1;32mreturn\u001b[0m \u001b[0mself\u001b[0m\u001b[1;33m.\u001b[0m\u001b[0m_make_api_call\u001b[0m\u001b[1;33m(\u001b[0m\u001b[0moperation_name\u001b[0m\u001b[1;33m,\u001b[0m \u001b[0mkwargs\u001b[0m\u001b[1;33m)\u001b[0m\u001b[1;33m\u001b[0m\u001b[0m\n\u001b[0m\u001b[0;32m    325\u001b[0m \u001b[1;33m\u001b[0m\u001b[0m\n\u001b[0;32m    326\u001b[0m         \u001b[0m_api_call\u001b[0m\u001b[1;33m.\u001b[0m\u001b[0m__name__\u001b[0m \u001b[1;33m=\u001b[0m \u001b[0mstr\u001b[0m\u001b[1;33m(\u001b[0m\u001b[0mpy_operation_name\u001b[0m\u001b[1;33m)\u001b[0m\u001b[1;33m\u001b[0m\u001b[0m\n",
      "\u001b[1;32mC:\\Users\\PMariani\\AppData\\Local\\Continuum\\anaconda3\\lib\\site-packages\\botocore\\client.py\u001b[0m in \u001b[0;36m_make_api_call\u001b[1;34m(self, operation_name, api_params)\u001b[0m\n\u001b[0;32m    620\u001b[0m             \u001b[0merror_code\u001b[0m \u001b[1;33m=\u001b[0m \u001b[0mparsed_response\u001b[0m\u001b[1;33m.\u001b[0m\u001b[0mget\u001b[0m\u001b[1;33m(\u001b[0m\u001b[1;34m\"Error\"\u001b[0m\u001b[1;33m,\u001b[0m \u001b[1;33m{\u001b[0m\u001b[1;33m}\u001b[0m\u001b[1;33m)\u001b[0m\u001b[1;33m.\u001b[0m\u001b[0mget\u001b[0m\u001b[1;33m(\u001b[0m\u001b[1;34m\"Code\"\u001b[0m\u001b[1;33m)\u001b[0m\u001b[1;33m\u001b[0m\u001b[0m\n\u001b[0;32m    621\u001b[0m             \u001b[0merror_class\u001b[0m \u001b[1;33m=\u001b[0m \u001b[0mself\u001b[0m\u001b[1;33m.\u001b[0m\u001b[0mexceptions\u001b[0m\u001b[1;33m.\u001b[0m\u001b[0mfrom_code\u001b[0m\u001b[1;33m(\u001b[0m\u001b[0merror_code\u001b[0m\u001b[1;33m)\u001b[0m\u001b[1;33m\u001b[0m\u001b[0m\n\u001b[1;32m--> 622\u001b[1;33m             \u001b[1;32mraise\u001b[0m \u001b[0merror_class\u001b[0m\u001b[1;33m(\u001b[0m\u001b[0mparsed_response\u001b[0m\u001b[1;33m,\u001b[0m \u001b[0moperation_name\u001b[0m\u001b[1;33m)\u001b[0m\u001b[1;33m\u001b[0m\u001b[0m\n\u001b[0m\u001b[0;32m    623\u001b[0m         \u001b[1;32melse\u001b[0m\u001b[1;33m:\u001b[0m\u001b[1;33m\u001b[0m\u001b[0m\n\u001b[0;32m    624\u001b[0m             \u001b[1;32mreturn\u001b[0m \u001b[0mparsed_response\u001b[0m\u001b[1;33m\u001b[0m\u001b[0m\n",
      "\u001b[1;31mConflictException\u001b[0m: An error occurred (ConflictException) when calling the DeleteIntent operation: There is a conflicting operation in progress for the resource named 'OrderFlowers'."
     ]
    }
   ],
   "source": [
    "# Delete the Bot\n",
    "\n",
    "# TODO make this more robust to error handling\n",
    "model_builder.delete_bot(name='OrderFlowersBot')\n",
    "model_builder.delete_intent(name='OrderFlowers')\n",
    "model_builder.delete_slot_type(name='FlowerTypes')"
   ]
  },
  {
   "cell_type": "code",
   "execution_count": null,
   "metadata": {
    "collapsed": true
   },
   "outputs": [],
   "source": [
    "# Build a bot cleaner https://docs.aws.amazon.com/lex/latest/dg/gs-cli-clean-up.html\n",
    "# Build Testing service for bot\n",
    "# Build some simple gui for it / Interact with someone else\n",
    "# "
   ]
  }
 ],
 "metadata": {
  "kernelspec": {
   "display_name": "Python 3",
   "language": "python",
   "name": "python3"
  },
  "language_info": {
   "codemirror_mode": {
    "name": "ipython",
    "version": 3
   },
   "file_extension": ".py",
   "mimetype": "text/x-python",
   "name": "python",
   "nbconvert_exporter": "python",
   "pygments_lexer": "ipython3",
   "version": "3.6.3"
  }
 },
 "nbformat": 4,
 "nbformat_minor": 2
}
