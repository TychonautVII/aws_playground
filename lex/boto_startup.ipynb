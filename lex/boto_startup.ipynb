{
 "cells": [
  {
   "cell_type": "code",
   "execution_count": 8,
   "metadata": {
    "collapsed": true
   },
   "outputs": [],
   "source": [
    "import boto3\n",
    "import pandas as pd\n",
    "import numpy as np\n",
    "from copy import deepcopy as cp\n",
    "import json"
   ]
  },
  {
   "cell_type": "code",
   "execution_count": 9,
   "metadata": {
    "collapsed": true
   },
   "outputs": [],
   "source": [
    "aws_profile = 'peter-personal'\n",
    "aws_region = 'us-east-1' # this should be redundant with my profile"
   ]
  },
  {
   "cell_type": "code",
   "execution_count": 20,
   "metadata": {},
   "outputs": [],
   "source": [
    "with open('FlowerTypes.json') as json_data:\n",
    "    flower_types_dict = json.load(json_data)\n",
    "\n",
    "with open('OrderFlowers.json') as json_data:\n",
    "    order_flowers_dict = json.load(json_data)\n",
    "    \n",
    "with open('OrderFlowersBot.json') as json_data:\n",
    "    order_flowers_bot_dict = json.load(json_data)"
   ]
  },
  {
   "cell_type": "code",
   "execution_count": 21,
   "metadata": {
    "collapsed": true
   },
   "outputs": [],
   "source": [
    "session = boto3.Session(profile_name='peter-personal')"
   ]
  },
  {
   "cell_type": "code",
   "execution_count": 22,
   "metadata": {
    "collapsed": true
   },
   "outputs": [],
   "source": [
    "model_builder = session.client('lex-models')"
   ]
  },
  {
   "cell_type": "code",
   "execution_count": 23,
   "metadata": {},
   "outputs": [
    {
     "data": {
      "text/plain": [
       "{'ResponseMetadata': {'HTTPHeaders': {'connection': 'keep-alive',\n",
       "   'content-length': '779',\n",
       "   'content-type': 'application/json',\n",
       "   'date': 'Tue, 20 Mar 2018 18:48:57 GMT',\n",
       "   'x-amzn-requestid': '58951fd9-2c6f-11e8-8f03-47f092f8baf8'},\n",
       "  'HTTPStatusCode': 200,\n",
       "  'RequestId': '58951fd9-2c6f-11e8-8f03-47f092f8baf8',\n",
       "  'RetryAttempts': 0},\n",
       " 'abortStatement': {'messages': [{'content': \"Sorry, I'm not able to assist at this time\",\n",
       "    'contentType': 'PlainText'}]},\n",
       " 'checksum': '6e1faeaf-7fad-4574-87f7-e21e8a9abf3e',\n",
       " 'childDirected': False,\n",
       " 'clarificationPrompt': {'maxAttempts': 2,\n",
       "  'messages': [{'content': \"I didn't understand you, what would you like to do?\",\n",
       "    'contentType': 'PlainText'}]},\n",
       " 'createVersion': False,\n",
       " 'createdDate': datetime.datetime(2018, 3, 20, 14, 48, 57, 422000, tzinfo=tzlocal()),\n",
       " 'description': 'Bot to order flowers on the behalf of a user',\n",
       " 'idleSessionTTLInSeconds': 600,\n",
       " 'intents': [{'intentName': 'OrderFlowers', 'intentVersion': '$LATEST'}],\n",
       " 'lastUpdatedDate': datetime.datetime(2018, 3, 20, 14, 48, 57, 422000, tzinfo=tzlocal()),\n",
       " 'locale': 'en-US',\n",
       " 'name': 'OrderFlowersBot',\n",
       " 'status': 'BUILDING',\n",
       " 'version': '$LATEST',\n",
       " 'voiceId': 'Salli'}"
      ]
     },
     "execution_count": 23,
     "metadata": {},
     "output_type": "execute_result"
    }
   ],
   "source": [
    "# Make Bot\n",
    "model_builder.put_slot_type(**flower_types_dict)\n",
    "model_builder.put_intent(**order_flowers_dict)\n",
    "model_builder.put_bot(**order_flowers_bot_dict)"
   ]
  },
  {
   "cell_type": "code",
   "execution_count": 24,
   "metadata": {
    "collapsed": true
   },
   "outputs": [],
   "source": [
    "lex_runtime = session.client('lex-runtime')"
   ]
  },
  {
   "cell_type": "code",
   "execution_count": 27,
   "metadata": {},
   "outputs": [],
   "source": [
    "out = lex_runtime.post_text(botName = 'OrderFlowersBot',\n",
    "                              botAlias = \"$LATEST\",\n",
    "                              userId = \"UserOne\",\n",
    "                              inputText = \"i would like to order flowers\" )"
   ]
  },
  {
   "cell_type": "code",
   "execution_count": 28,
   "metadata": {},
   "outputs": [
    {
     "name": "stdout",
     "output_type": "stream",
     "text": [
      "{'ResponseMetadata': {'RequestId': '52606b26-2c70-11e8-b716-19cc8f8d4322', 'HTTPStatusCode': 200, 'HTTPHeaders': {'content-type': 'application/json', 'date': 'Tue, 20 Mar 2018 18:55:56 GMT', 'x-amzn-requestid': '52606b26-2c70-11e8-b716-19cc8f8d4322', 'content-length': '279', 'connection': 'keep-alive'}, 'RetryAttempts': 0}, 'intentName': 'OrderFlowers', 'slots': {'FlowerType': None, 'PickupDate': None, 'PickupTime': None}, 'message': 'What type of flowers would you like to order?', 'messageFormat': 'PlainText', 'dialogState': 'ElicitSlot', 'slotToElicit': 'FlowerType'}\n"
     ]
    }
   ],
   "source": [
    "print(out)"
   ]
  },
  {
   "cell_type": "code",
   "execution_count": null,
   "metadata": {
    "collapsed": true
   },
   "outputs": [],
   "source": []
  }
 ],
 "metadata": {
  "kernelspec": {
   "display_name": "Python 3",
   "language": "python",
   "name": "python3"
  },
  "language_info": {
   "codemirror_mode": {
    "name": "ipython",
    "version": 3
   },
   "file_extension": ".py",
   "mimetype": "text/x-python",
   "name": "python",
   "nbconvert_exporter": "python",
   "pygments_lexer": "ipython3",
   "version": "3.6.3"
  }
 },
 "nbformat": 4,
 "nbformat_minor": 2
}
