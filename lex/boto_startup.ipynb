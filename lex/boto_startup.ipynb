{
 "cells": [
  {
   "cell_type": "code",
   "execution_count": 1,
   "metadata": {
    "collapsed": true
   },
   "outputs": [],
   "source": [
    "import boto3\n",
    "import pandas as pd\n",
    "import numpy as np\n",
    "from copy import deepcopy as cp\n",
    "import json\n",
    "from pprint import pprint"
   ]
  },
  {
   "cell_type": "code",
   "execution_count": 2,
   "metadata": {
    "collapsed": true
   },
   "outputs": [],
   "source": [
    "aws_profile = 'peter-personal'\n",
    "session = boto3.Session(profile_name='peter-personal')"
   ]
  },
  {
   "cell_type": "code",
   "execution_count": 3,
   "metadata": {},
   "outputs": [],
   "source": [
    "# Read in the configuration Files\n",
    "with open('FlowerTypes.json') as json_data:\n",
    "    flower_types_dict = json.load(json_data)\n",
    "\n",
    "with open('OrderFlowers.json') as json_data:\n",
    "    order_flowers_dict = json.load(json_data)\n",
    "    \n",
    "with open('OrderFlowersBot.json') as json_data:\n",
    "    order_flowers_bot_dict = json.load(json_data)"
   ]
  },
  {
   "cell_type": "code",
   "execution_count": 4,
   "metadata": {},
   "outputs": [
    {
     "data": {
      "text/plain": [
       "{'ResponseMetadata': {'HTTPHeaders': {'connection': 'keep-alive',\n",
       "   'content-length': '779',\n",
       "   'content-type': 'application/json',\n",
       "   'date': 'Tue, 20 Mar 2018 19:01:59 GMT',\n",
       "   'x-amzn-requestid': '2b016b73-2c71-11e8-b698-cf5427835c9b'},\n",
       "  'HTTPStatusCode': 200,\n",
       "  'RequestId': '2b016b73-2c71-11e8-b698-cf5427835c9b',\n",
       "  'RetryAttempts': 0},\n",
       " 'abortStatement': {'messages': [{'content': \"Sorry, I'm not able to assist at this time\",\n",
       "    'contentType': 'PlainText'}]},\n",
       " 'checksum': 'a587f117-18ae-4843-b0e8-d3607b4a9261',\n",
       " 'childDirected': False,\n",
       " 'clarificationPrompt': {'maxAttempts': 2,\n",
       "  'messages': [{'content': \"I didn't understand you, what would you like to do?\",\n",
       "    'contentType': 'PlainText'}]},\n",
       " 'createVersion': False,\n",
       " 'createdDate': datetime.datetime(2018, 3, 20, 15, 1, 59, 944000, tzinfo=tzlocal()),\n",
       " 'description': 'Bot to order flowers on the behalf of a user',\n",
       " 'idleSessionTTLInSeconds': 600,\n",
       " 'intents': [{'intentName': 'OrderFlowers', 'intentVersion': '$LATEST'}],\n",
       " 'lastUpdatedDate': datetime.datetime(2018, 3, 20, 15, 1, 59, 944000, tzinfo=tzlocal()),\n",
       " 'locale': 'en-US',\n",
       " 'name': 'OrderFlowersBot',\n",
       " 'status': 'BUILDING',\n",
       " 'version': '$LATEST',\n",
       " 'voiceId': 'Salli'}"
      ]
     },
     "execution_count": 4,
     "metadata": {},
     "output_type": "execute_result"
    }
   ],
   "source": [
    "# Make Bot\n",
    "model_builder = session.client('lex-models')\n",
    "model_builder.put_slot_type(**flower_types_dict)\n",
    "model_builder.put_intent(**order_flowers_dict)\n",
    "model_builder.put_bot(**order_flowers_bot_dict)"
   ]
  },
  {
   "cell_type": "code",
   "execution_count": 5,
   "metadata": {
    "collapsed": true
   },
   "outputs": [],
   "source": [
    "lex_runtime = session.client('lex-runtime')"
   ]
  },
  {
   "cell_type": "code",
   "execution_count": 6,
   "metadata": {},
   "outputs": [
    {
     "name": "stdout",
     "output_type": "stream",
     "text": [
      "{'ResponseMetadata': {'HTTPHeaders': {'connection': 'keep-alive',\n",
      "                                      'content-length': '279',\n",
      "                                      'content-type': 'application/json',\n",
      "                                      'date': 'Tue, 20 Mar 2018 19:03:23 GMT',\n",
      "                                      'x-amzn-requestid': '5d0d9de4-2c71-11e8-b202-c1f3d18f6e51'},\n",
      "                      'HTTPStatusCode': 200,\n",
      "                      'RequestId': '5d0d9de4-2c71-11e8-b202-c1f3d18f6e51',\n",
      "                      'RetryAttempts': 0},\n",
      " 'dialogState': 'ElicitSlot',\n",
      " 'intentName': 'OrderFlowers',\n",
      " 'message': 'What type of flowers would you like to order?',\n",
      " 'messageFormat': 'PlainText',\n",
      " 'slotToElicit': 'FlowerType',\n",
      " 'slots': {'FlowerType': None, 'PickupDate': None, 'PickupTime': None}}\n"
     ]
    }
   ],
   "source": [
    "# Interact with Bot\n",
    "lex_runtime = session.client('lex-runtime')\n",
    "out = lex_runtime.post_text(botName = 'OrderFlowersBot',\n",
    "                      botAlias = \"$LATEST\",\n",
    "                      userId = \"UserOne\",\n",
    "                      inputText = \"i would like to order flowers\" )\n",
    "pprint(out)"
   ]
  }
 ],
 "metadata": {
  "kernelspec": {
   "display_name": "Python 3",
   "language": "python",
   "name": "python3"
  },
  "language_info": {
   "codemirror_mode": {
    "name": "ipython",
    "version": 3
   },
   "file_extension": ".py",
   "mimetype": "text/x-python",
   "name": "python",
   "nbconvert_exporter": "python",
   "pygments_lexer": "ipython3",
   "version": "3.6.3"
  }
 },
 "nbformat": 4,
 "nbformat_minor": 2
}
