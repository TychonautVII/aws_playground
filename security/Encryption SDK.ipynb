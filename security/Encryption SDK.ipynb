{
 "cells": [
  {
   "cell_type": "code",
   "execution_count": 12,
   "metadata": {},
   "outputs": [],
   "source": [
    "import botocore\n",
    "import aws_encryption_sdk\n",
    "import os\n"
   ]
  },
  {
   "cell_type": "markdown",
   "metadata": {},
   "source": [
    "# Sources\n",
    "* https://docs.aws.amazon.com/encryption-sdk/latest/developer-guide/python-example-code.html\n"
   ]
  },
  {
   "cell_type": "code",
   "execution_count": 27,
   "metadata": {},
   "outputs": [],
   "source": [
    "session = botocore.session.Session(profile='personal1')"
   ]
  },
  {
   "cell_type": "code",
   "execution_count": 29,
   "metadata": {},
   "outputs": [],
   "source": [
    "key_arn = \"arn:aws:kms:us-east-1:455819476927:key/07e8f93b-b878-4e91-b58a-4b6c04f0a7b6\""
   ]
  },
  {
   "cell_type": "code",
   "execution_count": 38,
   "metadata": {},
   "outputs": [],
   "source": [
    "master_key_provider = aws_encryption_sdk.KMSMasterKeyProvider(botocore_session=session, \n",
    "                                                              key_ids=[key_arn])"
   ]
  },
  {
   "cell_type": "markdown",
   "metadata": {},
   "source": [
    "# KMS Hello World"
   ]
  },
  {
   "cell_type": "code",
   "execution_count": 40,
   "metadata": {},
   "outputs": [],
   "source": [
    "secret_text = \"I really like chinese food\""
   ]
  },
  {
   "cell_type": "code",
   "execution_count": 41,
   "metadata": {},
   "outputs": [],
   "source": [
    "my_ciphertext, encryptor_header =  aws_encryption_sdk.encrypt(source=secret_text, key_provider=master_key_provider)"
   ]
  },
  {
   "cell_type": "code",
   "execution_count": 76,
   "metadata": {},
   "outputs": [],
   "source": [
    "cyper_list = str(my_ciphertext).split(';')"
   ]
  },
  {
   "cell_type": "code",
   "execution_count": 84,
   "metadata": {},
   "outputs": [
    {
     "name": "stdout",
     "output_type": "stream",
     "text": [
      "b'\\x01\\x80\\x03x\\x1a7\\x03\\xddnd0\\xa9\\x1ek/\\x11\\x9c\\x9d\\x90\\xac\\x00_\\x00\\x01\\x00\\x15aws-crypto-public-key\\x00DA8stQNvW8RSLSody/1So4E5SpxGEvoslztgvsB9O5V9OC2gaCrgBliXbtK0tgrS90A==\\x00\\x01\\x00\\x07aws-kms\\x00Karn:aws:kms:us-east-1:455819476927:key/07e8f93b-b878-4e91-b58a-4b6c04f0a7b6\\x00\\xb8\\x01\\x02\\x01\\x00x\\x04V\\xc6\\x94[k*\\xb8\\xbd>N\\x1c\\xba\\xac\\x1c\\xe0l\\xd2\\x07\\xd9\\x1c\\x89_\\xc6\\xff6\\xb0\\x13p\\xbe\\xf5\\x8a\\x01J\\xb8j\"\\xc4\\xea\\xfbX\\x17\\xe3\"\\x9e{\\x18\\xff\\x11\\x00\\x00\\x00~0|\\x06\\t*\\x86H\\x86\\xf7\\r\\x01\\x07\\x06\\xa0o0m\\x02\\x01\\x000h\\x06\\t*\\x86H\\x86\\xf7\\r\\x01\\x07\\x010\\x1e\\x06\\t`\\x86H\\x01e\\x03\\x04\\x01.0\\x11\\x04\\x0c,\\xcdD\\xc5F\\xf7\\xc9%\\xf4\\xc8D1\\x02\\x01\\x10\\x80;-\\xd1\\xe2(=;\\x0c7$V\\xd9\\x9d\\xb5@\\x8f\\xbeG\\x0cw\\xba\\xca\\x9a\\xb2pH/\\xb7]F\\x88\\xeb\\x12\\x05\\x1b&\\xc9\\x1b\\xb1L\\xa0\\x9b\\xef\\\\Y\\xe5p\\xef[\\xae\\x9c0v\\xbaO\\xd6\\xee\\x98}\\xc4\\x02\\x00\\x00\\x00\\x00\\x0c\\x00\\x00\\x10\\x00\\x00\\x00\\x00\\x00\\x00\\x00\\x00\\x00\\x00\\x00\\x00\\x00\\x80\\n\\r\\x92\\xfbr\\x84\\xa4\\xe1\\xb7(>qS\\x15q\\xff\\xff\\xff\\xff\\x00\\x00\\x00\\x01\\x00\\x00\\x00\\x00\\x00\\x00\\x00\\x00\\x00\\x00\\x00\\x01\\x00\\x00\\x00\\x1aP\\x82;\\x9c\\xea/\\x91-\\xb0\\xf8\\x96\\x93\\xbe\\xe04,\\xcb\\xaa\\xb89\\xf3\\xb7C\\x12\\xe6e\\x1b\\xed\\xc6\\x04\\x0fH\\xbeLS\\x16\\xaed)Nc\\x9f\\x00g0e\\x021\\x00\\xd8\\xb4\\xb5G\\xcc#\\x05\\xf3SM\\xa7\\xce\\xa8\\x12j\\xac\\x7f\\x0c\\xc8\\xe7\\x0ev<\\xf9\\xf3\\xc4\\xb5\\x82r\\xc1\\xc2\\x96*MMa\\xd4\\xc2\\x90\\x0b\\xbd\\xc7\\xaa\\xbdb\\x87\\xcc!\\x0203\\xa1\\x082\\xfdc\\x18\\x8b\\xdbn\\xd1@\\xda\\xe3\\xfb\\x80\\x83\\xc8J\\xf3\\xc2\\x90\\xb2V\\xbf\\xee\\x98x\\xacz\\xcf\\xcf\\x1cE;~_\\x1f\\x9e\\xc1o\\x9f\\x19\\xc9\\xaea\\xbc\\xfe'\n"
     ]
    }
   ],
   "source": [
    "print(my_ciphertext)"
   ]
  },
  {
   "cell_type": "markdown",
   "metadata": {},
   "source": [
    "Parts of this cypher text string are recognizeable, we can see the ID of the KMS master key, and the encrpyted data key returned by the encryptor_header"
   ]
  },
  {
   "cell_type": "raw",
   "metadata": {},
   "source": [
    "\\x01\\x80\\x03x\\x1a7\\x03\\xddnd0\\xa9\\x1ek/\\x11\\x9c\\x9d\\x90\\xac\\x00_\\x00\\x01\\x00\\x15\n",
    "\n",
    "aws-crypto-public-key\\x00DA8stQNvW8RSLSody/1So4E5SpxGEvoslztgvsB9O5V9OC2gaCrgBliXbtK0tgrS90A==\\x00\\x01\\x00\\x07aws-kms\\x00K\n",
    "\n",
    "KMS envelope Key ID: \n",
    "arn:aws:kms:us-east-1:455819476927:key/07e8f93b-b878-4e91-b58a-4b6c04f0a7b6\n",
    "\n",
    "\\x00\\xb8\n",
    "\n",
    "***Encrpyted Data Key***: \\x01\\x02\\x01\\x00x\\x04V\\xc6\\x94[k*\\xb8\\xbd>N\\x1c\\xba\\xac\\x1c\\xe0l\\xd2\\x07\\xd9\\x1c\\x89_\\xc6\\xff6\\xb0\\x13p\\xbe\\xf5\\x8a\\x01J\\xb8j\"\\xc4\\xea\\xfbX\\x17\\xe3\"\\x9e{\\x18\\xff\\x11\\x00\\x00\\x00~0|\\x06\\t*\\x86H\\x86\\xf7\\r\\x01\\x07\\x06\\xa0o0m\\x02\\x01\\x000h\\x06\\t*\\x86H\\x86\\xf7\\r\\x01\\x07\\x010\\x1e\\x06\\t`\\x86H\\x01e\\x03\\x04\\x01.0\\x11\\x04\\x0c,\\xcdD\\xc5F\\xf7\\xc9%\\xf4\\xc8D1\\x02\\x01\\x10\\x80;-\\xd1\\xe2(=;\\x0c7$V\\xd9\\x9d\\xb5@\\x8f\\xbeG\\x0cw\\xba\\xca\\x9a\\xb2pH/\\xb7]F\\x88\\xeb\\x12\\x05\\x1b&\\xc9\\x1b\\xb1L\\xa0\\x9b\\xef\\\\Y\\xe5p\\xef[\\xae\\x9c0v\\xbaO\\xd6\\xee\\x98}\\xc4\n",
    "\n",
    "\\x02\\x00\\x00\\x00\\x00\\x0c\\x00\\x00\\x10\\x00\\x00\\x00\\x00\\x00\\x00\\x00\\x00\\x00\\x00\\x00\\x00\\x00\\x80\\n\\r\\x92\\xfbr\\x84\\xa4\\xe1\\xb7(>qS\\x15q\\xff\\xff\\xff\\xff\\x00\\x00\\x00\\x01\\x00\\x00\\x00\\x00\\x00\\x00\\x00\\x00\\x00\\x00\\x00\\x01\\x00\\x00\\x00\\x1aP\\x82;\\x9c\\xea/\\x91-\\xb0\\xf8\\x96\\x93\\xbe\\xe04,\\xcb\\xaa\\xb89\\xf3\\xb7C\\x12\\xe6e\\x1b\\xed\\xc6\\x04\\x0fH\\xbeLS\\x16\\xaed)Nc\\x9f\\x00g0e\\x021\\x00\\xd8\\xb4\\xb5G\\xcc#\\x05\\xf3SM\\xa7\\xce\\xa8\\x12j\\xac\\x7f\\x0c\\xc8\\xe7\\x0ev<\\xf9\\xf3\\xc4\\xb5\\x82r\\xc1\\xc2\\x96*MMa\\xd4\\xc2\\x90\\x0b\\xbd\\xc7\\xaa\\xbdb\\x87\\xcc!\\x0203\\xa1\\x082\\xfdc\\x18\\x8b\\xdbn\\xd1@\\xda\\xe3\\xfb\\x80\\x83\\xc8J\\xf3\\xc2\\x90\\xb2V\\xbf\\xee\\x98x\\xacz\\xcf\\xcf\\x1cE;~_\\x1f\\x9e\\xc1o\\x9f\\x19\\xc9\\xaea\\xbc\\xfe"
   ]
  },
  {
   "cell_type": "code",
   "execution_count": 86,
   "metadata": {},
   "outputs": [
    {
     "name": "stdout",
     "output_type": "stream",
     "text": [
      "AlgorithmSuite.AES_256_GCM_IV12_TAG16_HKDF_SHA384_ECDSA_P384\n"
     ]
    }
   ],
   "source": [
    "print(encryptor_header.algorithm)"
   ]
  },
  {
   "cell_type": "code",
   "execution_count": 87,
   "metadata": {},
   "outputs": [
    {
     "name": "stdout",
     "output_type": "stream",
     "text": [
      "{'aws-crypto-public-key': 'A8stQNvW8RSLSody/1So4E5SpxGEvoslztgvsB9O5V9OC2gaCrgBliXbtK0tgrS90A=='}\n"
     ]
    }
   ],
   "source": [
    "print(encryptor_header.encryption_context)"
   ]
  },
  {
   "cell_type": "code",
   "execution_count": 88,
   "metadata": {},
   "outputs": [
    {
     "name": "stdout",
     "output_type": "stream",
     "text": [
      "{EncryptedDataKey(key_provider=MasterKeyInfo(provider_id='aws-kms', key_info=b'arn:aws:kms:us-east-1:455819476927:key/07e8f93b-b878-4e91-b58a-4b6c04f0a7b6'), encrypted_data_key=b'\\x01\\x02\\x01\\x00x\\x04V\\xc6\\x94[k*\\xb8\\xbd>N\\x1c\\xba\\xac\\x1c\\xe0l\\xd2\\x07\\xd9\\x1c\\x89_\\xc6\\xff6\\xb0\\x13p\\xbe\\xf5\\x8a\\x01J\\xb8j\"\\xc4\\xea\\xfbX\\x17\\xe3\"\\x9e{\\x18\\xff\\x11\\x00\\x00\\x00~0|\\x06\\t*\\x86H\\x86\\xf7\\r\\x01\\x07\\x06\\xa0o0m\\x02\\x01\\x000h\\x06\\t*\\x86H\\x86\\xf7\\r\\x01\\x07\\x010\\x1e\\x06\\t`\\x86H\\x01e\\x03\\x04\\x01.0\\x11\\x04\\x0c,\\xcdD\\xc5F\\xf7\\xc9%\\xf4\\xc8D1\\x02\\x01\\x10\\x80;-\\xd1\\xe2(=;\\x0c7$V\\xd9\\x9d\\xb5@\\x8f\\xbeG\\x0cw\\xba\\xca\\x9a\\xb2pH/\\xb7]F\\x88\\xeb\\x12\\x05\\x1b&\\xc9\\x1b\\xb1L\\xa0\\x9b\\xef\\\\Y\\xe5p\\xef[\\xae\\x9c0v\\xbaO\\xd6\\xee\\x98}\\xc4')}\n"
     ]
    }
   ],
   "source": [
    "print(encryptor_header.encrypted_data_keys)"
   ]
  },
  {
   "cell_type": "code",
   "execution_count": 70,
   "metadata": {},
   "outputs": [],
   "source": [
    "cycled_plaintext, decrypted_header = aws_encryption_sdk.decrypt(\n",
    "    source=my_ciphertext,\n",
    "    key_provider=master_key_provider\n",
    ")"
   ]
  },
  {
   "cell_type": "code",
   "execution_count": 71,
   "metadata": {},
   "outputs": [
    {
     "data": {
      "text/plain": [
       "b'I really like chinese food'"
      ]
     },
     "execution_count": 71,
     "metadata": {},
     "output_type": "execute_result"
    }
   ],
   "source": [
    "cycled_plaintext"
   ]
  },
  {
   "cell_type": "markdown",
   "metadata": {},
   "source": [
    "# Cycle Zip File"
   ]
  },
  {
   "cell_type": "code",
   "execution_count": 92,
   "metadata": {},
   "outputs": [],
   "source": [
    "source_file = r\"C:\\Users\\PMariani\\Desktop\\home\\docs\\personal_projects\\aws_playground\\dummy_data\\alice_in_wonderland.7z\"\n",
    "output = r\"C:\\Users\\PMariani\\Desktop\\home\\docs\\personal_projects\\aws_playground\\dummy_data\\alice_in_wonderland.7z.encrypted\""
   ]
  },
  {
   "cell_type": "code",
   "execution_count": 95,
   "metadata": {},
   "outputs": [],
   "source": [
    "my_ciphertext, encryptor_header = aws_encryption_sdk.encrypt(source=source_file, key_provider=master_key_provider)"
   ]
  },
  {
   "cell_type": "code",
   "execution_count": null,
   "metadata": {},
   "outputs": [],
   "source": [
    "aws-encryption-cli "
   ]
  }
 ],
 "metadata": {
  "kernelspec": {
   "display_name": "Python 3",
   "language": "python",
   "name": "python3"
  },
  "language_info": {
   "codemirror_mode": {
    "name": "ipython",
    "version": 3
   },
   "file_extension": ".py",
   "mimetype": "text/x-python",
   "name": "python",
   "nbconvert_exporter": "python",
   "pygments_lexer": "ipython3",
   "version": "3.6.3"
  }
 },
 "nbformat": 4,
 "nbformat_minor": 2
}
