{
 "cells": [
  {
   "cell_type": "code",
   "execution_count": 1,
   "metadata": {
    "collapsed": true
   },
   "outputs": [],
   "source": [
    "import boto3"
   ]
  },
  {
   "cell_type": "markdown",
   "metadata": {},
   "source": [
    "I'm creating two different sessions, showing the utility of profiles. Notice how my secret passwords are kept out of my code, and I'm able to connect to different AWS accounts using simple names"
   ]
  },
  {
   "cell_type": "code",
   "execution_count": 2,
   "metadata": {
    "collapsed": true
   },
   "outputs": [],
   "source": [
    "personal1_session = boto3.Session(profile_name='personal1')\n",
    "chatbot_session = boto3.Session(profile_name='chatbot')"
   ]
  },
  {
   "cell_type": "code",
   "execution_count": 3,
   "metadata": {},
   "outputs": [
    {
     "data": {
      "text/plain": [
       "['elasticbeanstalk-us-east-1-455819476927', 'mathematicabootstrap']"
      ]
     },
     "execution_count": 3,
     "metadata": {},
     "output_type": "execute_result"
    }
   ],
   "source": [
    "personal1_buckets = personal1_session.client('s3').list_buckets()\n",
    "[bucket['Name'] for bucket in personal1_buckets['Buckets']]"
   ]
  },
  {
   "cell_type": "code",
   "execution_count": 4,
   "metadata": {},
   "outputs": [
    {
     "data": {
      "text/plain": [
       "['awc-cloudtrail-bucket-14134151',\n",
       " 'bhsis-chatbot-demo-site',\n",
       " 'bhsis-chatbot-mock-host-site',\n",
       " 'cf-templates-11bfm2r4wkomc-us-east-1',\n",
       " 'chatbotbootstrap',\n",
       " 'mathematica-chatbot-hosting']"
      ]
     },
     "execution_count": 4,
     "metadata": {},
     "output_type": "execute_result"
    }
   ],
   "source": [
    "chatbot_buckets = chatbot_session.client('s3').list_buckets()\n",
    "[bucket['Name'] for bucket in chatbot_buckets['Buckets']]"
   ]
  },
  {
   "cell_type": "code",
   "execution_count": null,
   "metadata": {
    "collapsed": true
   },
   "outputs": [],
   "source": []
  }
 ],
 "metadata": {
  "kernelspec": {
   "display_name": "Python 3",
   "language": "python",
   "name": "python3"
  },
  "language_info": {
   "codemirror_mode": {
    "name": "ipython",
    "version": 3
   },
   "file_extension": ".py",
   "mimetype": "text/x-python",
   "name": "python",
   "nbconvert_exporter": "python",
   "pygments_lexer": "ipython3",
   "version": "3.6.3"
  }
 },
 "nbformat": 4,
 "nbformat_minor": 2
}
